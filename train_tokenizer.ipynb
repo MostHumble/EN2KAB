{
  "nbformat": 4,
  "nbformat_minor": 0,
  "metadata": {
    "colab": {
      "provenance": [],
      "mount_file_id": "1YKnUjumbquh8zIQcKXziRkcfzZM_Z_NV",
      "authorship_tag": "ABX9TyM/lmYzYDRpitdtcw6QqOjZ",
      "include_colab_link": true
    },
    "kernelspec": {
      "name": "python3",
      "display_name": "Python 3"
    },
    "language_info": {
      "name": "python"
    }
  },
  "cells": [
    {
      "cell_type": "markdown",
      "metadata": {
        "id": "view-in-github",
        "colab_type": "text"
      },
      "source": [
        "<a href=\"https://colab.research.google.com/github/MostHumble/EN2KAB/blob/main/train_tokenizer.ipynb\" target=\"_parent\"><img src=\"https://colab.research.google.com/assets/colab-badge.svg\" alt=\"Open In Colab\"/></a>"
      ]
    },
    {
      "cell_type": "code",
      "source": [
        "%%capture\n",
        "!pip install tokenizers transformers"
      ],
      "metadata": {
        "id": "3L72CYrsEbeK"
      },
      "execution_count": null,
      "outputs": []
    },
    {
      "cell_type": "code",
      "source": [
        "from google.colab import files\n",
        "from tokenizers import Tokenizer\n",
        "from tokenizers.models import BPE\n",
        "from tokenizers.trainers import BpeTrainer\n",
        "from tokenizers.pre_tokenizers import Whitespace\n",
        "from transformers import PreTrainedTokenizerFast\n",
        "import os\n",
        "import pandas as pd\n"
      ],
      "metadata": {
        "id": "8N1U3OsmVlZv"
      },
      "execution_count": null,
      "outputs": []
    },
    {
      "cell_type": "code",
      "source": [
        "# Choose the Kaggle API token JSON file that you downloaded\n",
        "files.upload()\n",
        "%%capture\n",
        "!mkdir ~/.kaggle\n",
        "!cp kaggle.json ~/.kaggle/\n",
        "!chmod 600 ~/.kaggle/kaggle.json\n",
        "!kaggle datasets download -d sifalklioui/wiki-kabyle\n",
        "!unzip wiki-kabyle.zip -d data"
      ],
      "metadata": {
        "id": "heUc4DkISFUH"
      },
      "execution_count": null,
      "outputs": []
    },
    {
      "cell_type": "code",
      "source": [
        "# For the user's convenience `tokenizers` provides some very high-level classes encapsulating\n",
        "# the overall pipeline for various well-known tokenization algorithm.\n",
        "# Everything described below can be replaced by the ByteLevelBPETokenizer class.\n",
        "\n",
        "\n",
        "\n",
        "special_tokens = {'unk_token':\"[UNK]\",'cls_token ':\"[CLS]\",'sep_token':\"[SEP]\", 'pad_token':\"[PAD]\",'mask_token':\"[MASK]\",'bos_token':\"[BOS]\"}\n",
        "path = \"/content/data\"\n",
        "files = [os.path.join(path, f) for f in os.listdir(path) if f.endswith(\".txt\")]\n",
        "\n",
        "tokenizer = Tokenizer(BPE(unk_token=\"[UNK]\"))\n",
        "\n",
        "tokenizer.pre_tokenizer = Whitespace()\n",
        "\n",
        "\n",
        "# We initialize our trainer, giving him the details about the vocabulary we want to generate\n",
        "trainer = BpeTrainer(vocab_size=35000, show_progress=True,special_tokens=list(special_tokens.values()))\n",
        "tokenizer.train(files, trainer)\n",
        "print(\"Trained vocab size: {}\".format(tokenizer.get_vocab_size()))"
      ],
      "metadata": {
        "id": "53XYv6zbK-ZC"
      },
      "execution_count": null,
      "outputs": []
    },
    {
      "cell_type": "code",
      "source": [
        "# Load trained tokenizer for future use\n",
        "fast_tokenizer = PreTrainedTokenizerFast(tokenizer_object=tokenizer,**special_tokens)\n",
        "# Loading the data to try the tokinzer\n",
        "df = pd.read_csv('/content/drive/MyDrive/eng2kab.tsv',sep='\\t',names=['id1','en','id2','kab'], header=None).drop(columns=['id1','id2'])"
      ],
      "metadata": {
        "id": "oo5itOVFMRo5"
      },
      "execution_count": 10,
      "outputs": []
    },
    {
      "cell_type": "code",
      "source": [
        "fast_tokenizer(df.kab[0],max_length=6,padding='max_length')"
      ],
      "metadata": {
        "colab": {
          "base_uri": "https://localhost:8080/"
        },
        "id": "PCg4SKksV15C",
        "outputId": "39679bcd-df3f-47ce-9f54-af7b6485516e"
      },
      "execution_count": 14,
      "outputs": [
        {
          "output_type": "execute_result",
          "data": {
            "text/plain": [
              "{'input_ids': [1462, 3101, 6, 3, 3, 3], 'token_type_ids': [0, 0, 0, 0, 0, 0], 'attention_mask': [1, 1, 1, 0, 0, 0]}"
            ]
          },
          "metadata": {},
          "execution_count": 14
        }
      ]
    }
  ]
}