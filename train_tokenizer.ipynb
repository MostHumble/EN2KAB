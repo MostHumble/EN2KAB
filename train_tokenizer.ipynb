{
  "nbformat": 4,
  "nbformat_minor": 0,
  "metadata": {
    "colab": {
      "provenance": [],
      "mount_file_id": "1YKnUjumbquh8zIQcKXziRkcfzZM_Z_NV",
      "authorship_tag": "ABX9TyPrzk4YfPYMcfQ9SRNO5k0W"
    },
    "kernelspec": {
      "name": "python3",
      "display_name": "Python 3"
    },
    "language_info": {
      "name": "python"
    }
  },
  "cells": [
    {
      "cell_type": "code",
      "source": [
        "%%capture\n",
        "!pip install tokenizers transformers"
      ],
      "metadata": {
        "id": "3L72CYrsEbeK"
      },
      "execution_count": null,
      "outputs": []
    },
    {
      "cell_type": "code",
      "source": [
        "# Choose the Kaggle API token JSON file that you downloaded\n",
        "from google.colab import files\n",
        "files.upload()\n",
        "%%capture\n",
        "!mkdir ~/.kaggle\n",
        "!cp kaggle.json ~/.kaggle/\n",
        "!chmod 600 ~/.kaggle/kaggle.json\n",
        "!kaggle datasets download -d sifalklioui/wiki-kabyle\n",
        "!unzip wiki-kabyle.zip -d data"
      ],
      "metadata": {
        "id": "heUc4DkISFUH"
      },
      "execution_count": null,
      "outputs": []
    },
    {
      "cell_type": "code",
      "source": [
        "# For the user's convenience `tokenizers` provides some very high-level classes encapsulating\n",
        "# the overall pipeline for various well-known tokenization algorithm.\n",
        "# Everything described below can be replaced by the ByteLevelBPETokenizer class.\n",
        "\n",
        "from tokenizers import Tokenizer\n",
        "from tokenizers.decoders import ByteLevel as ByteLevelDecoder\n",
        "from tokenizers.models import BPE\n",
        "from tokenizers.pre_tokenizers import ByteLevel\n",
        "from tokenizers.trainers import BpeTrainer\n",
        "from tokenizers.pre_tokenizers import Whitespace\n",
        "import os, time\n",
        "import pandas as pd\n",
        "\n",
        "special_tokens = {'unk_token':\"[UNK]\",'cls_token ':\"[CLS]\",'sep_token':\"[SEP]\", 'pad_token':\"[PAD]\",'mask_token':\"[MASK]\",'bos_token':\"[BOS]\"}\n",
        "path = \"/content/data\"\n",
        "files = [os.path.join(path, f) for f in os.listdir(path) if f.endswith(\".txt\")]\n",
        "\n",
        "tokenizer = Tokenizer(BPE(unk_token=\"[UNK]\"))\n",
        "\n",
        "tokenizer.pre_tokenizer = Whitespace()\n",
        "\n",
        "\n",
        "# We initialize our trainer, giving him the details about the vocabulary we want to generate\n",
        "trainer = BpeTrainer(vocab_size=35000, show_progress=True,special_tokens=list(special_tokens.values()))\n",
        "tokenizer.train(files, trainer)\n",
        "os.makedirs('tokenizer',exsit_ok=True)\n",
        "Path = '/content/tokenizer/tokenizer.json'\n",
        "tokenizer.save(path=Path)\n",
        "\n",
        "print(\"Trained vocab size: {}\".format(tokenizer.get_vocab_size()))"
      ],
      "metadata": {
        "id": "53XYv6zbK-ZC"
      },
      "execution_count": null,
      "outputs": []
    },
    {
      "cell_type": "code",
      "source": [],
      "metadata": {
        "id": "vaHtyBiSRmFD"
      },
      "execution_count": null,
      "outputs": []
    },
    {
      "cell_type": "code",
      "source": [
        "df = pd.read_csv('/content/drive/MyDrive/eng2kab.tsv',sep='\\t',names=['id1','en','id2','kab'], header=None).drop(columns=['id1','id2'])"
      ],
      "metadata": {
        "id": "tCikY8Z8RdsM"
      },
      "execution_count": null,
      "outputs": []
    },
    {
      "cell_type": "code",
      "source": [
        "# Let's tokenizer a simple input\n",
        "tokenizer = Tokenizer.from_file(Path)\n",
        "output = tokenizer.encode(\"axxam n tmusni, d amellal\")\n",
        "\n",
        "print(\"Encoded string: {}\".format(output.tokens))\n",
        "\n",
        "decoded = tokenizer.decode(output.ids)\n",
        "print(\"Decoded string: {}\".format(decoded))"
      ],
      "metadata": {
        "id": "oo5itOVFMRo5",
        "outputId": "5e31af50-0683-4a78-e4c5-6f16272193f0",
        "colab": {
          "base_uri": "https://localhost:8080/"
        }
      },
      "execution_count": null,
      "outputs": [
        {
          "output_type": "stream",
          "name": "stdout",
          "text": [
            "Encoded string: ['Ġaxxam', 'Ġn', 'Ġtmusni', ',', 'Ġd', 'Ġamellal']\n",
            "Decoded string:  axxam n tmusni, d amellal\n"
          ]
        }
      ]
    }
  ]
}